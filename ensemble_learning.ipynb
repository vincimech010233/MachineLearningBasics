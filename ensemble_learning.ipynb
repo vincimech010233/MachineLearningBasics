{
  "nbformat": 4,
  "nbformat_minor": 0,
  "metadata": {
    "colab": {
      "provenance": [],
      "authorship_tag": "ABX9TyPLjhinpsx0/ucqLpoKEfxN",
      "include_colab_link": true
    },
    "kernelspec": {
      "name": "python3",
      "display_name": "Python 3"
    },
    "language_info": {
      "name": "python"
    }
  },
  "cells": [
    {
      "cell_type": "markdown",
      "metadata": {
        "id": "view-in-github",
        "colab_type": "text"
      },
      "source": [
        "<a href=\"https://colab.research.google.com/github/vincimech010233/MachineLearningBasics/blob/master/ensemble_learning.ipynb\" target=\"_parent\"><img src=\"https://colab.research.google.com/assets/colab-badge.svg\" alt=\"Open In Colab\"/></a>"
      ]
    },
    {
      "cell_type": "code",
      "execution_count": 13,
      "metadata": {
        "colab": {
          "base_uri": "https://localhost:8080/"
        },
        "id": "wE0-6p8yQoKg",
        "outputId": "e53efaff-1fa0-465f-b4fd-73eb403681a9"
      },
      "outputs": [
        {
          "output_type": "stream",
          "name": "stdout",
          "text": [
            "7/7 [==============================] - 0s 2ms/step\n",
            "Precisión del Modelo 1: 0.49825\n",
            "7/7 [==============================] - 0s 2ms/step\n",
            "Precisión del Modelo 2: 0.4979\n",
            "7/7 [==============================] - 0s 2ms/step\n",
            "Precisión del Modelo 3: 0.49825\n",
            "\n",
            "7/7 [==============================] - 0s 2ms/step\n",
            "7/7 [==============================] - 0s 2ms/step\n",
            "7/7 [==============================] - 0s 2ms/step\n",
            "Precisión del Ensemble: 0.4979\n"
          ]
        }
      ],
      "source": [
        "import numpy as np\n",
        "from tensorflow.keras.models import Sequential\n",
        "from tensorflow.keras.layers import Dense\n",
        "from sklearn.datasets import make_classification\n",
        "from sklearn.model_selection import train_test_split\n",
        "\n",
        "# Generar datos de ejemplo\n",
        "X, y = make_classification(n_samples=1000, n_features=20, n_classes=2, random_state=42)\n",
        "X_train, X_test, y_train, y_test = train_test_split(X, y, test_size=0.2, random_state=42)\n",
        "\n",
        "# Función para crear un modelo simple\n",
        "def crear_modelo():\n",
        "    modelo = Sequential()\n",
        "    modelo.add(Dense(64, activation='relu', input_shape=(20,)))\n",
        "    modelo.add(Dense(1, activation='sigmoid'))\n",
        "    modelo.compile(optimizer='adam', loss='binary_crossentropy', metrics=['accuracy'])\n",
        "    return modelo\n",
        "\n",
        "# Entrenar múltiples modelos\n",
        "modelos = [crear_modelo() for _ in range(3)]\n",
        "for modelo in modelos:\n",
        "    modelo.fit(X_train, y_train, epochs=10, verbose=0)\n",
        "\n",
        "# Evaluar cada modelo individualmente\n",
        "for i, modelo in enumerate(modelos):\n",
        "    predicciones_individuales = modelo.predict(X_test)\n",
        "    predicciones_individuales = (predicciones_individuales > 0.5).astype(int)\n",
        "    accuracy_individual = np.mean(predicciones_individuales == y_test)\n",
        "    print(f\"Precisión del Modelo {i+1}: {accuracy_individual}\")\n",
        "\n",
        "print()\n",
        "\n",
        "# Combinar predicciones\n",
        "predicciones = [modelo.predict(X_test) for modelo in modelos]\n",
        "predicciones_promedio = np.mean(predicciones, axis=0)\n",
        "predicciones_finales = (predicciones_promedio > 0.5).astype(int)\n",
        "\n",
        "# Evaluar el ensemble\n",
        "accuracy = np.mean(predicciones_finales == y_test)\n",
        "print(\"Precisión del Ensemble:\", accuracy)\n"
      ]
    }
  ]
}