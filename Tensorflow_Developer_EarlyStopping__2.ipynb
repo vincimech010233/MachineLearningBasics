{
  "nbformat": 4,
  "nbformat_minor": 0,
  "metadata": {
    "colab": {
      "provenance": [],
      "authorship_tag": "ABX9TyPC40GJo73IxllpxFGwfLXr",
      "include_colab_link": true
    },
    "kernelspec": {
      "name": "python3",
      "display_name": "Python 3"
    },
    "language_info": {
      "name": "python"
    }
  },
  "cells": [
    {
      "cell_type": "markdown",
      "metadata": {
        "id": "view-in-github",
        "colab_type": "text"
      },
      "source": [
        "<a href=\"https://colab.research.google.com/github/vincimech010233/MachineLearningBasics/blob/master/Tensorflow_Developer_EarlyStopping__2.ipynb\" target=\"_parent\"><img src=\"https://colab.research.google.com/assets/colab-badge.svg\" alt=\"Open In Colab\"/></a>"
      ]
    },
    {
      "cell_type": "code",
      "source": [
        "import tensorflow as tf\n",
        "from tensorflow.keras.datasets import fashion_mnist\n",
        "\n",
        "# Cargar datos\n",
        "(x_train, y_train), (x_test, y_test) = fashion_mnist.load_data()\n",
        "\n",
        "# Normalizar los datos\n",
        "x_train, x_test = x_train/255.0, x_test/255.0"
      ],
      "metadata": {
        "id": "_2DtcCDXBDOT"
      },
      "execution_count": 10,
      "outputs": []
    },
    {
      "cell_type": "code",
      "source": [
        "from tensorflow.keras.models import Sequential\n",
        "from tensorflow.keras.layers import Flatten, Dense\n",
        "\n",
        "model = Sequential([\n",
        "    Flatten(input_shape=(28, 28)), # Convertir imagenes de 28x28 a vectores planos\n",
        "    Dense(128, activation='relu'),\n",
        "    Dense(10, activation='softmax') # 10 clases en Fashion\n",
        "])"
      ],
      "metadata": {
        "id": "RzUYfjhmB96F"
      },
      "execution_count": 13,
      "outputs": []
    },
    {
      "cell_type": "code",
      "source": [
        "model.compile(optimizer='adam',\n",
        "              loss='sparse_categorical_crossentropy',\n",
        "              metrics=['accuracy'])"
      ],
      "metadata": {
        "id": "ZCmgh28wCs39"
      },
      "execution_count": 16,
      "outputs": []
    },
    {
      "cell_type": "code",
      "source": [
        "from tensorflow.keras.callbacks import EarlyStopping\n",
        "\n",
        "early_stopping = EarlyStopping(monitor='val_accuracy', min_delta=0.01, patience=2, verbose=1, restore_best_weights=True)\n",
        "\n",
        "model.fit(x_train, y_train, epochs=10, validation_split=0.2, callbacks=[early_stopping])"
      ],
      "metadata": {
        "colab": {
          "base_uri": "https://localhost:8080/"
        },
        "id": "kyztpDlKDEKH",
        "outputId": "4bf36620-e5ba-404e-8b82-60f05ce9e476"
      },
      "execution_count": 18,
      "outputs": [
        {
          "output_type": "stream",
          "name": "stdout",
          "text": [
            "Epoch 1/10\n",
            "1500/1500 [==============================] - 6s 4ms/step - loss: 0.5125 - accuracy: 0.8199 - val_loss: 0.4090 - val_accuracy: 0.8542\n",
            "Epoch 2/10\n",
            "1500/1500 [==============================] - 7s 5ms/step - loss: 0.3867 - accuracy: 0.8614 - val_loss: 0.3825 - val_accuracy: 0.8612\n",
            "Epoch 3/10\n",
            "1500/1500 [==============================] - 5s 4ms/step - loss: 0.3445 - accuracy: 0.8750 - val_loss: 0.3670 - val_accuracy: 0.8654\n",
            "Epoch 4/10\n",
            "1500/1500 [==============================] - 7s 4ms/step - loss: 0.3196 - accuracy: 0.8812 - val_loss: 0.3321 - val_accuracy: 0.8802\n",
            "Epoch 5/10\n",
            "1500/1500 [==============================] - 6s 4ms/step - loss: 0.3020 - accuracy: 0.8877 - val_loss: 0.3531 - val_accuracy: 0.8726\n",
            "Epoch 6/10\n",
            "1487/1500 [============================>.] - ETA: 0s - loss: 0.2856 - accuracy: 0.8935Restoring model weights from the end of the best epoch: 4.\n",
            "1500/1500 [==============================] - 8s 6ms/step - loss: 0.2858 - accuracy: 0.8935 - val_loss: 0.3281 - val_accuracy: 0.8824\n",
            "Epoch 6: early stopping\n"
          ]
        },
        {
          "output_type": "execute_result",
          "data": {
            "text/plain": [
              "<keras.src.callbacks.History at 0x7c27a413f4f0>"
            ]
          },
          "metadata": {},
          "execution_count": 18
        }
      ]
    },
    {
      "cell_type": "code",
      "source": [
        "test_loss, test_acc = model.evaluate(x_test, y_test, verbose=2)\n",
        "print('\\nTest accuaracy:', test_acc)"
      ],
      "metadata": {
        "colab": {
          "base_uri": "https://localhost:8080/"
        },
        "id": "Ob6URvGRDvNh",
        "outputId": "4558690b-8343-488a-ea26-61e746097ade"
      },
      "execution_count": 19,
      "outputs": [
        {
          "output_type": "stream",
          "name": "stdout",
          "text": [
            "313/313 - 1s - loss: 0.3559 - accuracy: 0.8725 - 951ms/epoch - 3ms/step\n",
            "\n",
            "Test accuaracy: 0.8725000023841858\n"
          ]
        }
      ]
    }
  ]
}