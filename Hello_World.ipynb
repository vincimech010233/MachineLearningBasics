{
  "nbformat": 4,
  "nbformat_minor": 0,
  "metadata": {
    "colab": {
      "provenance": [],
      "authorship_tag": "ABX9TyOHxiEBEFOtogs0+zlfub/T",
      "include_colab_link": true
    },
    "kernelspec": {
      "name": "python3",
      "display_name": "Python 3"
    },
    "language_info": {
      "name": "python"
    }
  },
  "cells": [
    {
      "cell_type": "markdown",
      "metadata": {
        "id": "view-in-github",
        "colab_type": "text"
      },
      "source": [
        "<a href=\"https://colab.research.google.com/github/vincimech010233/MachineLearningBasics/blob/master/Hello_World.ipynb\" target=\"_parent\"><img src=\"https://colab.research.google.com/assets/colab-badge.svg\" alt=\"Open In Colab\"/></a>"
      ]
    },
    {
      "cell_type": "code",
      "execution_count": 1,
      "metadata": {
        "colab": {
          "base_uri": "https://localhost:8080/"
        },
        "id": "CPWTfIZSFDSf",
        "outputId": "89bc16bd-61f4-4be1-e17e-eac929ae61f5"
      },
      "outputs": [
        {
          "output_type": "stream",
          "name": "stdout",
          "text": [
            "Reading package lists... Done\n",
            "Building dependency tree... Done\n",
            "Reading state information... Done\n",
            "The following NEW packages will be installed:\n",
            "  nasm\n",
            "0 upgraded, 1 newly installed, 0 to remove and 19 not upgraded.\n",
            "Need to get 375 kB of archives.\n",
            "After this operation, 3,345 kB of additional disk space will be used.\n",
            "Get:1 http://archive.ubuntu.com/ubuntu jammy/universe amd64 nasm amd64 2.15.05-1 [375 kB]\n",
            "Fetched 375 kB in 1s (374 kB/s)\n",
            "Selecting previously unselected package nasm.\n",
            "(Reading database ... 120874 files and directories currently installed.)\n",
            "Preparing to unpack .../nasm_2.15.05-1_amd64.deb ...\n",
            "Unpacking nasm (2.15.05-1) ...\n",
            "Setting up nasm (2.15.05-1) ...\n",
            "Processing triggers for man-db (2.10.2-1) ...\n"
          ]
        }
      ],
      "source": [
        "!apt-get install nasm"
      ]
    },
    {
      "cell_type": "code",
      "source": [
        "%%writefile hello_world.asm\n",
        "section .data\n",
        "    msg db 'Hello world', 0Ah\n",
        "\n",
        "section .text\n",
        "    global _start\n",
        "\n",
        "_start:\n",
        "    mov edx, 11\n",
        "    mov ecx, msg\n",
        "    mov ebx, 1\n",
        "    mov eax, 4\n",
        "    int 0x80\n",
        "    mov eax, 1\n",
        "    int 0x80\n"
      ],
      "metadata": {
        "colab": {
          "base_uri": "https://localhost:8080/"
        },
        "id": "YTQY7ymCFPK3",
        "outputId": "2a91783e-5795-4ee9-bbe6-f100a9187d18"
      },
      "execution_count": 9,
      "outputs": [
        {
          "output_type": "stream",
          "name": "stdout",
          "text": [
            "Writing hello_world.asm\n"
          ]
        }
      ]
    },
    {
      "cell_type": "code",
      "source": [
        "!nasm -f elf64 -o hello_world.o hello_world.asm\n",
        "!ld -o hello_world hello_world.o\n",
        "!./hello_world\n"
      ],
      "metadata": {
        "colab": {
          "base_uri": "https://localhost:8080/"
        },
        "id": "Gy-EDp6aFro4",
        "outputId": "69c71b22-c181-48cf-a847-c0e54d19b49d"
      },
      "execution_count": 10,
      "outputs": [
        {
          "output_type": "stream",
          "name": "stdout",
          "text": [
            "Hello world"
          ]
        }
      ]
    },
    {
      "cell_type": "code",
      "source": [
        "!apt-get install r-base\n",
        "%load_ext rpy2.ipython\n"
      ],
      "metadata": {
        "colab": {
          "base_uri": "https://localhost:8080/"
        },
        "id": "xfJz1JzCF35d",
        "outputId": "b08e2cc1-3ce1-435b-9c12-a5cb80734429"
      },
      "execution_count": 5,
      "outputs": [
        {
          "output_type": "stream",
          "name": "stdout",
          "text": [
            "Reading package lists... Done\n",
            "Building dependency tree... Done\n",
            "Reading state information... Done\n",
            "r-base is already the newest version (4.3.1-4.2204.0).\n",
            "0 upgraded, 0 newly installed, 0 to remove and 19 not upgraded.\n",
            "The rpy2.ipython extension is already loaded. To reload it, use:\n",
            "  %reload_ext rpy2.ipython\n"
          ]
        }
      ]
    },
    {
      "cell_type": "code",
      "source": [
        "%R print(\"Hello World in R\")\n"
      ],
      "metadata": {
        "colab": {
          "base_uri": "https://localhost:8080/",
          "height": 76
        },
        "id": "VW476BIHGYct",
        "outputId": "eed7cc78-696a-4716-aaeb-e1f7e08a6baa"
      },
      "execution_count": 11,
      "outputs": [
        {
          "output_type": "stream",
          "name": "stdout",
          "text": [
            "[1] \"Hello World in R\"\n"
          ]
        },
        {
          "output_type": "execute_result",
          "data": {
            "text/plain": [
              "<rpy2.robjects.vectors.StrVector object at 0x7cb1bebe9800> [RTYPES.STRSXP]\n",
              "R classes: ('character',)\n",
              "['Hello World in R']"
            ],
            "text/html": [
              "\n",
              "        <span>StrVector with 1 elements.</span>\n",
              "        <table>\n",
              "        <tbody>\n",
              "          <tr>\n",
              "          \n",
              "            <td>\n",
              "            'Hello World in R'\n",
              "            </td>\n",
              "          \n",
              "          </tr>\n",
              "        </tbody>\n",
              "        </table>\n",
              "        "
            ]
          },
          "metadata": {},
          "execution_count": 11
        }
      ]
    },
    {
      "cell_type": "code",
      "source": [
        "print(\"Hello World in python\")"
      ],
      "metadata": {
        "colab": {
          "base_uri": "https://localhost:8080/"
        },
        "id": "yKcLskgGGcYI",
        "outputId": "a58ec49e-8ff6-432e-a454-c30326a114d4"
      },
      "execution_count": 12,
      "outputs": [
        {
          "output_type": "stream",
          "name": "stdout",
          "text": [
            "Hello World in python\n"
          ]
        }
      ]
    }
  ]
}