{
  "nbformat": 4,
  "nbformat_minor": 0,
  "metadata": {
    "colab": {
      "provenance": [],
      "authorship_tag": "ABX9TyOAeilHh5lgUp2FXFtt2Zsk",
      "include_colab_link": true
    },
    "kernelspec": {
      "name": "python3",
      "display_name": "Python 3"
    },
    "language_info": {
      "name": "python"
    }
  },
  "cells": [
    {
      "cell_type": "markdown",
      "metadata": {
        "id": "view-in-github",
        "colab_type": "text"
      },
      "source": [
        "<a href=\"https://colab.research.google.com/github/vincimech010233/MachineLearningBasics/blob/master/tensorflow_developer_2.ipynb\" target=\"_parent\"><img src=\"https://colab.research.google.com/assets/colab-badge.svg\" alt=\"Open In Colab\"/></a>"
      ]
    },
    {
      "cell_type": "code",
      "execution_count": null,
      "metadata": {
        "id": "blao9VnqZ4Fy"
      },
      "outputs": [],
      "source": [
        "import tensorflow as tf\n",
        "\n",
        "# Cargar el conjunto de datos CIFAR-10\n",
        "cifar10 = tf.keras.datasets.cifar10\n",
        "(train_images, train_labels), (test_images, test_labels) = cifar10.load_data()"
      ]
    },
    {
      "cell_type": "code",
      "source": [
        "# Normalizar los datos de imagen\n",
        "train_images, test_images = train_images / 255.0, test_images / 255.0"
      ],
      "metadata": {
        "id": "mi0fk1RpaQrZ"
      },
      "execution_count": 2,
      "outputs": []
    },
    {
      "cell_type": "code",
      "source": [
        "model = tf.keras.Sequential([\n",
        "    # Capa de convolución 1\n",
        "    tf.keras.layers.Conv2D(32, (3,3), activation='relu', input_shape=(32, 32, 3)),\n",
        "    tf.keras.layers.MaxPooling2D((2, 2)),\n",
        "\n",
        "    # Capa de convolución 2\n",
        "    tf.keras.layers.Conv2D(64, (3,3), activation='relu'),\n",
        "    tf.keras.layers.MaxPooling2D((2,2)),\n",
        "\n",
        "    # Capa de convolución 3\n",
        "    tf.keras.layers.Conv2D(64, (3,3), activation='relu'),\n",
        "\n",
        "    # Aplanar el output para la capa densa\n",
        "    tf.keras.layers.Flatten(),\n",
        "    tf.keras.layers.Dense(64, activation='relu'),\n",
        "    tf.keras.layers.Dense(10, activation='softmax')\n",
        "])"
      ],
      "metadata": {
        "id": "S19cTrYMaX8e"
      },
      "execution_count": 3,
      "outputs": []
    },
    {
      "cell_type": "code",
      "source": [
        "model.compile(optimizer='adam',\n",
        "              loss='sparse_categorical_crossentropy',\n",
        "              metrics=['accuracy'])"
      ],
      "metadata": {
        "id": "A3tasAJNab7_"
      },
      "execution_count": 4,
      "outputs": []
    },
    {
      "cell_type": "code",
      "source": [
        "history = model.fit(train_images, train_labels, epochs=10,\n",
        "                    validation_data=(test_images, test_labels))"
      ],
      "metadata": {
        "colab": {
          "base_uri": "https://localhost:8080/"
        },
        "id": "dWlQR7PqafJn",
        "outputId": "400d5d58-a120-42c1-ed6f-78599a5d3f32"
      },
      "execution_count": 5,
      "outputs": [
        {
          "output_type": "stream",
          "name": "stdout",
          "text": [
            "Epoch 1/10\n",
            "1563/1563 [==============================] - 69s 44ms/step - loss: 1.5515 - accuracy: 0.4329 - val_loss: 1.3702 - val_accuracy: 0.5090\n",
            "Epoch 2/10\n",
            "1563/1563 [==============================] - 68s 43ms/step - loss: 1.1926 - accuracy: 0.5761 - val_loss: 1.0932 - val_accuracy: 0.6141\n",
            "Epoch 3/10\n",
            "1563/1563 [==============================] - 69s 44ms/step - loss: 1.0294 - accuracy: 0.6408 - val_loss: 1.0069 - val_accuracy: 0.6405\n",
            "Epoch 4/10\n",
            "1563/1563 [==============================] - 69s 44ms/step - loss: 0.9326 - accuracy: 0.6730 - val_loss: 0.9557 - val_accuracy: 0.6629\n",
            "Epoch 5/10\n",
            "1563/1563 [==============================] - 69s 44ms/step - loss: 0.8604 - accuracy: 0.6986 - val_loss: 0.9022 - val_accuracy: 0.6891\n",
            "Epoch 6/10\n",
            "1563/1563 [==============================] - 69s 44ms/step - loss: 0.8029 - accuracy: 0.7202 - val_loss: 0.8916 - val_accuracy: 0.6897\n",
            "Epoch 7/10\n",
            "1563/1563 [==============================] - 73s 47ms/step - loss: 0.7603 - accuracy: 0.7353 - val_loss: 0.9002 - val_accuracy: 0.6844\n",
            "Epoch 8/10\n",
            "1563/1563 [==============================] - 67s 43ms/step - loss: 0.7139 - accuracy: 0.7515 - val_loss: 0.9017 - val_accuracy: 0.6962\n",
            "Epoch 9/10\n",
            "1563/1563 [==============================] - 69s 44ms/step - loss: 0.6789 - accuracy: 0.7643 - val_loss: 0.8807 - val_accuracy: 0.6993\n",
            "Epoch 10/10\n",
            "1563/1563 [==============================] - 69s 44ms/step - loss: 0.6396 - accuracy: 0.7766 - val_loss: 0.8220 - val_accuracy: 0.7230\n"
          ]
        }
      ]
    },
    {
      "cell_type": "code",
      "source": [
        "test_loss, test_acc = model.evaluate(test_images,  test_labels, verbose=2)\n",
        "print('\\nTest accuracy:', test_acc)"
      ],
      "metadata": {
        "colab": {
          "base_uri": "https://localhost:8080/"
        },
        "id": "hkb_ZRPAanjv",
        "outputId": "46db197b-f606-44ae-d3be-1856dcb0b87b"
      },
      "execution_count": 6,
      "outputs": [
        {
          "output_type": "stream",
          "name": "stdout",
          "text": [
            "313/313 - 3s - loss: 0.8220 - accuracy: 0.7230 - 3s/epoch - 11ms/step\n",
            "\n",
            "Test accuracy: 0.7229999899864197\n"
          ]
        }
      ]
    },
    {
      "cell_type": "code",
      "source": [
        "# Callback para guardar el mejor modelo\n",
        "checkpoint_cb = tf.keras.callbacks.ModelCheckpoint(\"mejor_modelo.h5\", save_best_only=True)\n",
        "\n",
        "# Callback para detener el entrenamiento si no hay mejora\n",
        "early_stopping_cb = tf.keras.callbacks.EarlyStopping(patience=10, restore_best_weights=True)"
      ],
      "metadata": {
        "id": "J9wabQKJbORs"
      },
      "execution_count": 7,
      "outputs": []
    },
    {
      "cell_type": "code",
      "source": [
        "history = model.fit(train_images, train_labels, epochs=50, # Aumentar el número de épocas si es necesario\n",
        "                    validation_data=(test_images, test_labels),\n",
        "                    callbacks=[checkpoint_cb, early_stopping_cb])"
      ],
      "metadata": {
        "colab": {
          "base_uri": "https://localhost:8080/"
        },
        "id": "MmMgJ9M5bUmX",
        "outputId": "b35f9a11-6029-4bd2-9116-9b9b92250f79"
      },
      "execution_count": 8,
      "outputs": [
        {
          "output_type": "stream",
          "name": "stdout",
          "text": [
            "Epoch 1/50\n",
            "1563/1563 [==============================] - 70s 45ms/step - loss: 0.6090 - accuracy: 0.7855 - val_loss: 0.8608 - val_accuracy: 0.7154\n",
            "Epoch 2/50\n",
            "   3/1563 [..............................] - ETA: 56s - loss: 0.6713 - accuracy: 0.7917"
          ]
        },
        {
          "output_type": "stream",
          "name": "stderr",
          "text": [
            "/usr/local/lib/python3.10/dist-packages/keras/src/engine/training.py:3103: UserWarning: You are saving your model as an HDF5 file via `model.save()`. This file format is considered legacy. We recommend using instead the native Keras format, e.g. `model.save('my_model.keras')`.\n",
            "  saving_api.save_model(\n"
          ]
        },
        {
          "output_type": "stream",
          "name": "stdout",
          "text": [
            "1563/1563 [==============================] - 69s 44ms/step - loss: 0.5813 - accuracy: 0.7968 - val_loss: 0.8485 - val_accuracy: 0.7244\n",
            "Epoch 3/50\n",
            "1563/1563 [==============================] - 68s 44ms/step - loss: 0.5501 - accuracy: 0.8055 - val_loss: 0.9291 - val_accuracy: 0.7023\n",
            "Epoch 4/50\n",
            "1563/1563 [==============================] - 68s 43ms/step - loss: 0.5269 - accuracy: 0.8134 - val_loss: 0.8651 - val_accuracy: 0.7228\n",
            "Epoch 5/50\n",
            "1563/1563 [==============================] - 74s 47ms/step - loss: 0.4997 - accuracy: 0.8235 - val_loss: 0.9216 - val_accuracy: 0.7131\n",
            "Epoch 6/50\n",
            "1563/1563 [==============================] - 69s 44ms/step - loss: 0.4772 - accuracy: 0.8327 - val_loss: 0.9445 - val_accuracy: 0.7120\n",
            "Epoch 7/50\n",
            "1563/1563 [==============================] - 67s 43ms/step - loss: 0.4564 - accuracy: 0.8390 - val_loss: 0.9688 - val_accuracy: 0.7064\n",
            "Epoch 8/50\n",
            "1563/1563 [==============================] - 71s 45ms/step - loss: 0.4354 - accuracy: 0.8458 - val_loss: 0.9570 - val_accuracy: 0.7118\n",
            "Epoch 9/50\n",
            "1563/1563 [==============================] - 70s 45ms/step - loss: 0.4164 - accuracy: 0.8514 - val_loss: 0.9981 - val_accuracy: 0.7176\n",
            "Epoch 10/50\n",
            "1563/1563 [==============================] - 69s 44ms/step - loss: 0.3947 - accuracy: 0.8587 - val_loss: 1.0647 - val_accuracy: 0.7013\n",
            "Epoch 11/50\n",
            "1563/1563 [==============================] - 70s 45ms/step - loss: 0.3816 - accuracy: 0.8640 - val_loss: 1.0725 - val_accuracy: 0.7085\n",
            "Epoch 12/50\n",
            "1563/1563 [==============================] - 69s 44ms/step - loss: 0.3615 - accuracy: 0.8715 - val_loss: 1.0964 - val_accuracy: 0.7083\n"
          ]
        }
      ]
    },
    {
      "cell_type": "code",
      "source": [
        "model = tf.keras.models.load_model(\"mejor_modelo.h5\")"
      ],
      "metadata": {
        "id": "Cj-NlJRtbchv"
      },
      "execution_count": 9,
      "outputs": []
    },
    {
      "cell_type": "code",
      "source": [
        "test_loss, test_acc = model.evaluate(test_images, test_labels, verbose=2)\n",
        "print('\\nTest accuracy del mejor modelo:', test_acc)"
      ],
      "metadata": {
        "colab": {
          "base_uri": "https://localhost:8080/"
        },
        "id": "-fONV-7Dbeqv",
        "outputId": "7a4b19bb-cf3b-4d0f-a42d-b82613d55e90"
      },
      "execution_count": 10,
      "outputs": [
        {
          "output_type": "stream",
          "name": "stdout",
          "text": [
            "313/313 - 4s - loss: 0.8485 - accuracy: 0.7244 - 4s/epoch - 11ms/step\n",
            "\n",
            "Test accuracy del mejor modelo: 0.724399983882904\n"
          ]
        }
      ]
    }
  ]
}