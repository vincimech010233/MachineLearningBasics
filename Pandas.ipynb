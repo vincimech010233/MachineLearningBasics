{
  "nbformat": 4,
  "nbformat_minor": 0,
  "metadata": {
    "colab": {
      "provenance": [],
      "authorship_tag": "ABX9TyPZQJZE8wFr4gCQQLVWNF0M",
      "include_colab_link": true
    },
    "kernelspec": {
      "name": "python3",
      "display_name": "Python 3"
    },
    "language_info": {
      "name": "python"
    }
  },
  "cells": [
    {
      "cell_type": "markdown",
      "metadata": {
        "id": "view-in-github",
        "colab_type": "text"
      },
      "source": [
        "<a href=\"https://colab.research.google.com/github/vincimech010233/MachineLearningBasics/blob/master/Pandas.ipynb\" target=\"_parent\"><img src=\"https://colab.research.google.com/assets/colab-badge.svg\" alt=\"Open In Colab\"/></a>"
      ]
    },
    {
      "cell_type": "code",
      "execution_count": 1,
      "metadata": {
        "id": "rLiNISnRZUtI"
      },
      "outputs": [],
      "source": [
        "import pandas as pd\n",
        "import matplotlib.pyplot as plt\n",
        "\n",
        "# Crear un DataFrame con datos ficticios\n",
        "datos = {\n",
        "    'Mes': ['Enero', 'Febrero', 'Marzo', 'Abril', 'Mayo', 'Junio'],\n",
        "    'Ventas': [200, 220, 250, 275, 300, 320]\n",
        "}\n",
        "ventas_df = pd.DataFrame(datos)\n"
      ]
    },
    {
      "cell_type": "code",
      "source": [
        "# Mostrar los primeros registros del DataFrame\n",
        "print(ventas_df.head())\n",
        "\n",
        "# Explicación: Esto nos ayuda a ver cómo se ven los primeros meses y las ventas.\n"
      ],
      "metadata": {
        "colab": {
          "base_uri": "https://localhost:8080/"
        },
        "id": "ogocIVCDZaAT",
        "outputId": "acb62e66-75cd-4b67-804e-9124eb1a7614"
      },
      "execution_count": 2,
      "outputs": [
        {
          "output_type": "stream",
          "name": "stdout",
          "text": [
            "       Mes  Ventas\n",
            "0    Enero     200\n",
            "1  Febrero     220\n",
            "2    Marzo     250\n",
            "3    Abril     275\n",
            "4     Mayo     300\n"
          ]
        }
      ]
    },
    {
      "cell_type": "code",
      "source": [
        "total_ventas = ventas_df['Ventas'].sum()\n",
        "print(f\"Total de ventas en el año: {total_ventas}\")\n",
        "\n",
        "# Explicación: Sumamos todas las ventas mensuales para saber cuánto vendió la tienda en total.\n"
      ],
      "metadata": {
        "colab": {
          "base_uri": "https://localhost:8080/"
        },
        "id": "1KNS_cBJZdWD",
        "outputId": "3551ff09-a3dc-4513-8c28-4d206ded6351"
      },
      "execution_count": 3,
      "outputs": [
        {
          "output_type": "stream",
          "name": "stdout",
          "text": [
            "Total de ventas en el año: 1565\n"
          ]
        }
      ]
    },
    {
      "cell_type": "code",
      "source": [
        "# Graficar las ventas\n",
        "plt.bar(ventas_df['Mes'], ventas_df['Ventas'])\n",
        "plt.title('Ventas Mensuales de la Tienda')\n",
        "plt.xlabel('Mes')\n",
        "plt.ylabel('Ventas')\n",
        "plt.show()\n",
        "\n",
        "# Explicación: El gráfico de barras nos muestra visualmente cómo cambiaron las ventas cada mes.\n"
      ],
      "metadata": {
        "colab": {
          "base_uri": "https://localhost:8080/",
          "height": 472
        },
        "id": "54jlcRPlZf6L",
        "outputId": "fbc0d142-63de-412f-bb8a-34eb8b11a9a8"
      },
      "execution_count": 4,
      "outputs": [
        {
          "output_type": "display_data",
          "data": {
            "text/plain": [
              "<Figure size 640x480 with 1 Axes>"
            ],
            "image/png": "[encoded data removed]"
          },
          "metadata": {}
        }
      ]
    }
  ]
}