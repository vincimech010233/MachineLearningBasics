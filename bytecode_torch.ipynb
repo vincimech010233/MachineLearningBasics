{
  "nbformat": 4,
  "nbformat_minor": 0,
  "metadata": {
    "colab": {
      "provenance": [],
      "authorship_tag": "ABX9TyONOHl0xXnW0uFZVRa9In5X",
      "include_colab_link": true
    },
    "kernelspec": {
      "name": "python3",
      "display_name": "Python 3"
    },
    "language_info": {
      "name": "python"
    }
  },
  "cells": [
    {
      "cell_type": "markdown",
      "metadata": {
        "id": "view-in-github",
        "colab_type": "text"
      },
      "source": [
        "<a href=\"https://colab.research.google.com/github/vincimech010233/MachineLearningBasics/blob/master/bytecode_torch.ipynb\" target=\"_parent\"><img src=\"https://colab.research.google.com/assets/colab-badge.svg\" alt=\"Open In Colab\"/></a>"
      ]
    },
    {
      "cell_type": "code",
      "execution_count": null,
      "metadata": {
        "colab": {
          "base_uri": "https://localhost:8080/"
        },
        "id": "5zNqSdCbkV3a",
        "outputId": "da17d27b-33da-4a62-f7db-e894a4a2d0ed"
      },
      "outputs": [
        {
          "output_type": "stream",
          "name": "stdout",
          "text": [
            "graph(%self : __torch__.SimpleModel,\n",
            "      %x.1 : Tensor):\n",
            "  %linear : __torch__.torch.nn.modules.linear.Linear = prim::GetAttr[name=\"linear\"](%self)\n",
            "  %4 : Tensor = prim::CallMethod[name=\"forward\"](%linear, %x.1) # <ipython-input-1-68e6f345759c>:11:15\n",
            "  return (%4)\n",
            "\n"
          ]
        }
      ],
      "source": [
        "import torch\n",
        "import torch.nn as nn\n",
        "\n",
        "# Definir un modelo simple de red neuronal\n",
        "class SimpleModel(nn.Module):\n",
        "    def __init__(self):\n",
        "        super(SimpleModel, self).__init__()\n",
        "        self.linear = nn.Linear(10, 5)\n",
        "\n",
        "    def forward(self, x):\n",
        "        return self.linear(x)\n",
        "\n",
        "model = SimpleModel()\n",
        "\n",
        "# Convertir el modelo a TorchScript para una ejecución más eficiente\n",
        "scripted_model = torch.jit.script(model)\n",
        "\n",
        "# El modelo 'scripted' actúa como un bytecode optimizado para el modelo\n",
        "print(scripted_model.graph)\n"
      ]
    },
    {
      "cell_type": "code",
      "source": [
        "input_tensor = torch.randn(1, 10)  # Crear un tensor de entrada de ejemplo\n",
        "output = scripted_model(input_tensor)  # Ejecutar el modelo\n",
        "print(output)  # Imprimir la salida del modelo\n",
        "\n",
        "# Guardar el modelo\n",
        "torch.jit.save(scripted_model, 'model_scripted.pt')"
      ],
      "metadata": {
        "colab": {
          "base_uri": "https://localhost:8080/"
        },
        "id": "AHDUHbqj3ydh",
        "outputId": "8a431fdd-78c9-4f2e-ec19-0dfedc1b9a95"
      },
      "execution_count": 4,
      "outputs": [
        {
          "output_type": "stream",
          "name": "stdout",
          "text": [
            "tensor([[ 0.1840, -1.2067,  0.2490,  0.6947,  0.8632]],\n",
            "       grad_fn=<AddmmBackward0>)\n"
          ]
        }
      ]
    },
    {
      "cell_type": "code",
      "source": [
        "# En otro script o entorno, cargar el modelo\n",
        "loaded_model = torch.jit.load('model_scripted.pt')\n",
        "\n",
        "# Uso del modelo cargado\n",
        "input_tensor = torch.randn(1, 10)\n",
        "output = loaded_model(input_tensor)\n",
        "print(output)\n"
      ],
      "metadata": {
        "colab": {
          "base_uri": "https://localhost:8080/"
        },
        "id": "3KggXyE731F1",
        "outputId": "2b8e9feb-c5e9-4de1-d2b4-e34d351bb0a4"
      },
      "execution_count": 3,
      "outputs": [
        {
          "output_type": "stream",
          "name": "stdout",
          "text": [
            "tensor([[ 0.3131, -0.0394,  0.6042, -0.0310, -1.0632]],\n",
            "       grad_fn=<AddmmBackward0>)\n"
          ]
        }
      ]
    }
  ]
}