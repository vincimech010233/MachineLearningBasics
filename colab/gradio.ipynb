{
  "nbformat": 4,
  "nbformat_minor": 0,
  "metadata": {
    "colab": {
      "provenance": [],
      "authorship_tag": "ABX9TyP8pNM5Tnhq5jg65jIkxW7a",
      "include_colab_link": true
    },
    "kernelspec": {
      "name": "python3",
      "display_name": "Python 3"
    },
    "language_info": {
      "name": "python"
    }
  },
  "cells": [
    {
      "cell_type": "markdown",
      "metadata": {
        "id": "view-in-github",
        "colab_type": "text"
      },
      "source": [
        "<a href=\"https://colab.research.google.com/github/vincimech010233/MachineLearningBasics/blob/master/gradio.ipynb\" target=\"_parent\"><img src=\"https://colab.research.google.com/assets/colab-badge.svg\" alt=\"Open In Colab\"/></a>"
      ]
    },
    {
      "cell_type": "code",
      "execution_count": null,
      "metadata": {
        "id": "J1DQKaSNr4pu"
      },
      "outputs": [],
      "source": [
        "!pip install gradio transformers torch torchvision"
      ]
    },
    {
      "cell_type": "code",
      "source": [
        "import gradio as gr\n",
        "from transformers import pipeline\n",
        "from torchvision import models, transforms\n",
        "from PIL import Image\n",
        "import torch"
      ],
      "metadata": {
        "id": "umVubn4rsl00"
      },
      "execution_count": 2,
      "outputs": []
    },
    {
      "cell_type": "code",
      "source": [
        "# Cargar un modelo preentrenado de Hugging Face para el análisis de sentimiento\n",
        "sentiment_analysis = pipeline(\"sentiment-analysis\")\n",
        "\n",
        "# Cargar un modelo preentrenado de torchvision para clasificación de imágenes\n",
        "image_model = models.resnet18(pretrained=True)\n",
        "image_model.eval()"
      ],
      "metadata": {
        "id": "dkk7jv5usnSK"
      },
      "execution_count": null,
      "outputs": []
    },
    {
      "cell_type": "code",
      "source": [
        "# Definir la transformación de la imagen para el modelo de torchvision\n",
        "preprocess = transforms.Compose([\n",
        "    transforms.Resize(256),\n",
        "    transforms.CenterCrop(224),\n",
        "    transforms.ToTensor(),\n",
        "    transforms.Normalize(mean=[0.485, 0.456, 0.406], std=[0.229, 0.224, 0.225]),\n",
        "])"
      ],
      "metadata": {
        "id": "lf4Ms2GNsrFF"
      },
      "execution_count": 4,
      "outputs": []
    },
    {
      "cell_type": "code",
      "source": [
        "# Define la función que utilizará ambos modelos para hacer inferencia\n",
        "def my_multimodal_model(text_input, image_input):\n",
        "    # Procesar texto y realizar análisis de sentimiento\n",
        "    sentiment_result = sentiment_analysis(text_input)\n",
        "\n",
        "    # Procesar imagen y realizar clasificación de imagen\n",
        "    image = Image.fromarray(image_input.astype('uint8'), 'RGB')\n",
        "    image = preprocess(image).unsqueeze(0)\n",
        "    with torch.no_grad():\n",
        "        image_prediction = image_model(image)\n",
        "    top5_prob, top5_catid = torch.topk(torch.nn.functional.softmax(image_prediction[0], dim=0), 5)\n",
        "    imagenet_index = {idx: 'Clase ' + str(idx) for idx in range(1000)}\n",
        "    image_result = \", \".join([imagenet_index[catid] for catid in top5_catid.numpy()])\n",
        "\n",
        "    return sentiment_result, image_result\n"
      ],
      "metadata": {
        "id": "sQzo-Fmqsz7k"
      },
      "execution_count": 5,
      "outputs": []
    },
    {
      "cell_type": "code",
      "source": [
        "# Define la interfaz de Gradio\n",
        "iface = gr.Interface(\n",
        "    fn=my_multimodal_model,\n",
        "    inputs=[\n",
        "        gr.Textbox(lines=2, placeholder=\"Escribe aquí tu texto...\"),\n",
        "        gr.Image()\n",
        "    ],\n",
        "    outputs=[\n",
        "        gr.Text(label=\"Texto generado\"),\n",
        "        gr.Label(label=\"Clasificación de imagen\")\n",
        "    ]\n",
        ")"
      ],
      "metadata": {
        "id": "65BpBunes2yq"
      },
      "execution_count": 7,
      "outputs": []
    },
    {
      "cell_type": "code",
      "source": [
        "# Lanzar la interfaz\n",
        "iface.launch()"
      ],
      "metadata": {
        "colab": {
          "base_uri": "https://localhost:8080/",
          "height": 626
        },
        "id": "TFTg0FaZtDED",
        "outputId": "30207527-45e4-43cc-ff3a-224e6826a877"
      },
      "execution_count": 8,
      "outputs": [
        {
          "output_type": "stream",
          "name": "stdout",
          "text": [
            "Setting queue=True in a Colab notebook requires sharing enabled. Setting `share=True` (you can turn this off by setting `share=False` in `launch()` explicitly).\n",
            "\n",
            "Colab notebook detected. To show errors in colab notebook, set debug=True in launch()\n",
            "Running on public URL: https://0e851ec15a305a72bb.gradio.live\n",
            "\n",
            "This share link expires in 72 hours. For free permanent hosting and GPU upgrades, run `gradio deploy` from Terminal to deploy to Spaces (https://huggingface.co/spaces)\n"
          ]
        },
        {
          "output_type": "display_data",
          "data": {
            "text/plain": [
              "<IPython.core.display.HTML object>"
            ],
            "text/html": [
              "<div><iframe src=\"https://0e851ec15a305a72bb.gradio.live\" width=\"100%\" height=\"500\" allow=\"autoplay; camera; microphone; clipboard-read; clipboard-write;\" frameborder=\"0\" allowfullscreen></iframe></div>"
            ]
          },
          "metadata": {}
        },
        {
          "output_type": "execute_result",
          "data": {
            "text/plain": []
          },
          "metadata": {},
          "execution_count": 8
        }
      ]
    }
  ]
}