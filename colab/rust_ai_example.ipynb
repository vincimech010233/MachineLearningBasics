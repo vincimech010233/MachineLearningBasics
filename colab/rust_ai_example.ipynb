{
  "nbformat": 4,
  "nbformat_minor": 0,
  "metadata": {
    "colab": {
      "provenance": [],
      "authorship_tag": "ABX9TyNA+iHMNjjIooXuW5DnaUUX",
      "include_colab_link": true
    },
    "kernelspec": {
      "name": "python3",
      "display_name": "Python 3"
    },
    "language_info": {
      "name": "python"
    }
  },
  "cells": [
    {
      "cell_type": "markdown",
      "metadata": {
        "id": "view-in-github",
        "colab_type": "text"
      },
      "source": [
        "<a href=\"https://colab.research.google.com/github/vincimech010233/MachineLearningBasics/blob/master/rust_ai_example.ipynb\" target=\"_parent\"><img src=\"https://colab.research.google.com/assets/colab-badge.svg\" alt=\"Open In Colab\"/></a>"
      ]
    },
    {
      "cell_type": "code",
      "execution_count": null,
      "metadata": {
        "id": "vJrmhNzCtupf"
      },
      "outputs": [],
      "source": [
        "!curl --proto '=https' --tlsv1.2 -sSf https://sh.rustup.rs | sh -s -- -y\n",
        "import os\n",
        "os.environ['PATH'] += \":/root/.cargo/bin\"\n",
        "!rustc --version"
      ]
    },
    {
      "cell_type": "code",
      "source": [
        "%%writefile Cargo.toml\n",
        "[package]\n",
        "name = \"mi_proyecto_ai\"\n",
        "version = \"0.1.0\"\n",
        "edition = \"2018\"\n",
        "\n",
        "[dependencies]\n",
        "smartcore = \"0.2.0\""
      ],
      "metadata": {
        "colab": {
          "base_uri": "https://localhost:8080/"
        },
        "id": "6RyT2dSjtvjQ",
        "outputId": "61bd80a5-d71e-409c-81d3-f78153c3b368"
      },
      "execution_count": 8,
      "outputs": [
        {
          "output_type": "stream",
          "name": "stdout",
          "text": [
            "Overwriting Cargo.toml\n"
          ]
        }
      ]
    },
    {
      "cell_type": "code",
      "source": [
        "%%bash\n",
        "mkdir -p src"
      ],
      "metadata": {
        "id": "VGrop8rVvCE_"
      },
      "execution_count": 9,
      "outputs": []
    },
    {
      "cell_type": "code",
      "source": [
        "%%writefile src/main.rs\n",
        "use smartcore::linalg::naive::dense_matrix::DenseMatrix;\n",
        "use smartcore::linear::linear_regression::LinearRegression;\n",
        "\n",
        "fn main() {\n",
        "    // Datos de entrenamiento\n",
        "    let x = DenseMatrix::from_2d_array(&[\n",
        "        &[1.0, 2.0],\n",
        "        &[2.0, 1.0],\n",
        "        &[3.0, 4.0],\n",
        "        &[4.0, 3.0],\n",
        "    ]);\n",
        "    let y = vec![2.0, 3.0, 5.5, 4.5];\n",
        "\n",
        "    // Crear y entrenar el modelo\n",
        "    let lr = LinearRegression::fit(&x, &y, Default::default()).unwrap();\n",
        "\n",
        "    // Predecir un nuevo valor\n",
        "    let pred = lr.predict(&DenseMatrix::from_2d_array(&[&[5.0, 5.0]])).unwrap();\n",
        "    println!(\"Predicción: {:?}\", pred);\n",
        "}"
      ],
      "metadata": {
        "colab": {
          "base_uri": "https://localhost:8080/"
        },
        "id": "lFTJ-zumvEDg",
        "outputId": "5d1078a4-39b3-472a-9712-e2d3487b9bdc"
      },
      "execution_count": 10,
      "outputs": [
        {
          "output_type": "stream",
          "name": "stdout",
          "text": [
            "Writing src/main.rs\n"
          ]
        }
      ]
    },
    {
      "cell_type": "code",
      "source": [
        "!cargo build"
      ],
      "metadata": {
        "colab": {
          "base_uri": "https://localhost:8080/"
        },
        "id": "gVTZNneVtxDf",
        "outputId": "4fcbb6a0-7d4e-49cf-ac2c-c323a87a87e5"
      },
      "execution_count": 12,
      "outputs": [
        {
          "output_type": "stream",
          "name": "stdout",
          "text": [
            "\u001b[1m\u001b[32m    Finished\u001b[0m dev [unoptimized + debuginfo] target(s) in 0.02s\n"
          ]
        }
      ]
    },
    {
      "cell_type": "code",
      "source": [
        "!cargo run"
      ],
      "metadata": {
        "colab": {
          "base_uri": "https://localhost:8080/"
        },
        "id": "SVU73S71vSqA",
        "outputId": "08ecee29-de84-43a7-e23a-b5225af71ea2"
      },
      "execution_count": 13,
      "outputs": [
        {
          "output_type": "stream",
          "name": "stdout",
          "text": [
            "\u001b[1m\u001b[32m    Finished\u001b[0m dev [unoptimized + debuginfo] target(s) in 0.02s\n",
            "\u001b[1m\u001b[32m     Running\u001b[0m `target/debug/mi_proyecto_ai`\n",
            "Predicción: [6.8750000000000036]\n"
          ]
        }
      ]
    },
    {
      "cell_type": "code",
      "source": [
        "from sklearn.linear_model import LinearRegression\n",
        "import numpy as np\n",
        "\n",
        "# Datos de entrenamiento\n",
        "X = np.array([[1.0, 2.0],\n",
        "              [2.0, 1.0],\n",
        "              [3.0, 4.0],\n",
        "              [4.0, 3.0]])\n",
        "y = np.array([2.0, 3.0, 5.5, 4.5])\n",
        "\n",
        "# Crear y entrenar el modelo\n",
        "model = LinearRegression()\n",
        "model.fit(X, y)\n",
        "\n",
        "# Predecir un nuevo valor\n",
        "prediction = model.predict(np.array([[5.0, 5.0]]))\n",
        "print(f\"Predicción: {prediction}\")"
      ],
      "metadata": {
        "colab": {
          "base_uri": "https://localhost:8080/"
        },
        "id": "gbcx289Fv46g",
        "outputId": "18c264a5-f368-46dd-fa5f-4449e5f9a137"
      },
      "execution_count": 14,
      "outputs": [
        {
          "output_type": "stream",
          "name": "stdout",
          "text": [
            "Predicción: [6.875]\n"
          ]
        }
      ]
    }
  ]
}