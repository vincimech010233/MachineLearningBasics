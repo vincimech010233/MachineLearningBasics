{
 "cells": [
  {
   "cell_type": "code",
   "execution_count": null,
   "metadata": {},
   "outputs": [],
   "source": [
    "import numpy as np\n",
    "import tensorflow as tf\n",
    "import matplotlib.pyplot as plt\n",
    "\n",
    "# Simulated time series data\n",
    "time = np.arange(0, 100, 0.1)\n",
    "sin_wave = np.sin(time) + np.sin(time * 0.05) + np.sin(time * 0.12) \n",
    "sin_wave_anomalous = sin_wave.copy()\n",
    "sin_wave_anomalous[300:500] = 3  # Anomaly\n",
    "\n",
    "# Prepare training data\n",
    "train_data = sin_wave[:700]\n",
    "test_data = sin_wave[700:]\n",
    "test_data_anomalous = sin_wave_anomalous[700:]\n",
    "\n",
    "train_data = train_data.reshape(-1, 1)\n",
    "test_data = test_data.reshape(-1, 1)\n",
    "test_data_anomalous = test_data_anomalous.reshape(-1, 1)\n",
    "\n",
    "# Create Autoencoder model\n",
    "model = tf.keras.Sequential([\n",
    "    tf.keras.layers.Dense(64, activation='relu', input_shape=(train_data.shape[1],)),\n",
    "    tf.keras.layers.Dense(32, activation='relu'),\n",
    "    tf.keras.layers.Dense(64, activation='relu'),\n",
    "    tf.keras.layers.Dense(train_data.shape[1])\n",
    "])\n",
    "\n",
    "model.compile(optimizer='adam', loss='mse')\n",
    "model.fit(train_data, train_data, epochs=50, batch_size=16, validation_split=0.1)\n",
    "\n",
    "# Evaluate model and detect anomalies\n",
    "reconstruction = model.predict(test_data)\n",
    "reconstruction_anomalous = model.predict(test_data_anomalous)\n",
    "\n",
    "mse_normal = np.mean(np.power(test_data - reconstruction, 2), axis=1)\n",
    "mse_anomalous = np.mean(np.power(test_data_anomalous - reconstruction_anomalous, 2), axis=1)\n",
    "\n",
    "# Plotting the error\n",
    "plt.figure(figsize=(10, 6))\n",
    "plt.hist([mse_normal, mse_anomalous], bins=50, alpha=0.5, label=['Normal', 'Anomalous'])\n",
    "plt.legend(loc='upper right')\n",
    "plt.title('Distribution of Reconstruction Error')\n",
    "plt.show()\n"
   ]
  }
 ],
 "metadata": {
  "kernelspec": {
   "display_name": "Python 3",
   "language": "python",
   "name": "python3"
  },
  "language_info": {
   "codemirror_mode": {
    "name": "ipython",
    "version": 3
   },
   "file_extension": ".py",
   "mimetype": "text/x-python",
   "name": "python",
   "nbconvert_exporter": "python",
   "pygments_lexer": "ipython3",
   "version": "3.11.6"
  }
 },
 "nbformat": 4,
 "nbformat_minor": 2
}
