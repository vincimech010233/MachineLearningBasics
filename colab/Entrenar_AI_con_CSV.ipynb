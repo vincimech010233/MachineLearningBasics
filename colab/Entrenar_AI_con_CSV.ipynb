{
  "nbformat": 4,
  "nbformat_minor": 0,
  "metadata": {
    "colab": {
      "provenance": [],
      "authorship_tag": "ABX9TyMLhOBuISbR4ums7I6ahXyS",
      "include_colab_link": true
    },
    "kernelspec": {
      "name": "python3",
      "display_name": "Python 3"
    },
    "language_info": {
      "name": "python"
    }
  },
  "cells": [
    {
      "cell_type": "markdown",
      "metadata": {
        "id": "view-in-github",
        "colab_type": "text"
      },
      "source": [
        "<a href=\"https://colab.research.google.com/github/vincimech010233/MachineLearningBasics/blob/master/Entrenar_AI_con_CSV.ipynb\" target=\"_parent\"><img src=\"https://colab.research.google.com/assets/colab-badge.svg\" alt=\"Open In Colab\"/></a>"
      ]
    },
    {
      "cell_type": "code",
      "execution_count": null,
      "metadata": {
        "id": "-FDQLOpP6Yp-"
      },
      "outputs": [],
      "source": [
        "import pandas as pd\n",
        "from sklearn.feature_extraction.text import CountVectorizer\n",
        "from sklearn.naive_bayes import MultinomialNB\n",
        "from sklearn.pipeline import make_pipeline\n",
        "import os\n"
      ]
    },
    {
      "cell_type": "code",
      "source": [
        "# Crear un archivo CSV inicial si no existe\n",
        "if not os.path.exists('data.csv'):\n",
        "    with open('data.csv', 'w') as f:\n",
        "        f.write(\"Pregunta,Respuesta\\n\")\n",
        "        f.write(\"¿Cuál es la capital de Francia?,París\\n\")\n",
        "        f.write(\"¿Qué lenguaje se habla en Brasil?,Portugués\\n\")\n"
      ],
      "metadata": {
        "id": "cD9FNErT6Zwz"
      },
      "execution_count": null,
      "outputs": []
    },
    {
      "cell_type": "code",
      "source": [
        "def load_data(filename='data.csv'):\n",
        "    return pd.read_csv(filename)\n",
        "\n",
        "# Inicializar y entrenar el modelo\n",
        "model = make_pipeline(CountVectorizer(), MultinomialNB())\n",
        "data = load_data()\n",
        "X_train = data['Pregunta']\n",
        "y_train = data['Respuesta']\n",
        "model.fit(X_train, y_train)\n",
        "\n",
        "# Función para interactuar con el modelo y añadir datos\n",
        "def interact_and_update():\n",
        "    print(\"Pregunta al modelo o escribe 'añadir' para añadir datos, 'salir' para terminar.\")\n",
        "    while True:\n",
        "        question = input(\"Tú: \")\n",
        "        if question.lower() == 'salir':\n",
        "            break\n",
        "        elif question.lower() == 'añadir':\n",
        "            new_question = input(\"Ingresa la nueva pregunta: \")\n",
        "            new_answer = input(\"Ingresa la nueva respuesta: \")\n",
        "            with open('data.csv', 'a') as f:\n",
        "                f.write(f\"{new_question},{new_answer}\\n\")\n",
        "            # Recargar y reentrenar el modelo\n",
        "            data = load_data()\n",
        "            X_train = data['Pregunta']\n",
        "            y_train = data['Respuesta']\n",
        "            model.fit(X_train, y_train)\n",
        "            print(\"Datos añadidos y modelo reentrenado.\")\n",
        "        else:\n",
        "            prediction = model.predict([question])[0]\n",
        "            print(\"Modelo:\", prediction)\n",
        "\n",
        "interact_and_update()\n"
      ],
      "metadata": {
        "colab": {
          "base_uri": "https://localhost:8080/"
        },
        "id": "pbKQo0BX6de2",
        "outputId": "eb3fab8b-2353-4808-aa77-0e0545c1040c"
      },
      "execution_count": null,
      "outputs": [
        {
          "output_type": "stream",
          "name": "stdout",
          "text": [
            "Pregunta al modelo o escribe 'añadir' para añadir datos, 'salir' para terminar.\n",
            "Tú: cual es la capital de brasil?\n",
            "Modelo: París\n",
            "Tú: añadir\n",
            "Ingresa la nueva pregunta: cual es la capital de brasil?\n",
            "Ingresa la nueva respuesta: Brasilia\n",
            "Datos añadidos y modelo reentrenado.\n"
          ]
        }
      ]
    }
  ]
}