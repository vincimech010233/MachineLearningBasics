{
  "nbformat": 4,
  "nbformat_minor": 0,
  "metadata": {
    "colab": {
      "provenance": [],
      "authorship_tag": "ABX9TyN7SIvmmIsm9D7c+vkYCs7R",
      "include_colab_link": true
    },
    "kernelspec": {
      "name": "python3",
      "display_name": "Python 3"
    },
    "language_info": {
      "name": "python"
    }
  },
  "cells": [
    {
      "cell_type": "markdown",
      "metadata": {
        "id": "view-in-github",
        "colab_type": "text"
      },
      "source": [
        "<a href=\"https://colab.research.google.com/github/vincimech010233/MachineLearningBasics/blob/master/Modificar_capas_modelo.ipynb\" target=\"_parent\"><img src=\"https://colab.research.google.com/assets/colab-badge.svg\" alt=\"Open In Colab\"/></a>"
      ]
    },
    {
      "cell_type": "code",
      "execution_count": 8,
      "metadata": {
        "colab": {
          "base_uri": "https://localhost:8080/"
        },
        "id": "ustoQovPpfRc",
        "outputId": "0102e68c-b4d4-4b4f-baa2-1015e0db9f1b"
      },
      "outputs": [
        {
          "output_type": "stream",
          "name": "stdout",
          "text": [
            "Model: \"sequential_3\"\n",
            "_________________________________________________________________\n",
            " Layer (type)                Output Shape              Param #   \n",
            "=================================================================\n",
            " dense_3 (Dense)             (None, 10)                110       \n",
            "                                                                 \n",
            "=================================================================\n",
            "Total params: 110 (440.00 Byte)\n",
            "Trainable params: 110 (440.00 Byte)\n",
            "Non-trainable params: 0 (0.00 Byte)\n",
            "_________________________________________________________________\n"
          ]
        }
      ],
      "source": [
        "from tensorflow.keras.models import Sequential\n",
        "from tensorflow.keras.layers import Dense\n",
        "\n",
        "# Crear modelo original\n",
        "model = Sequential([\n",
        "    Dense(10, activation='relu', input_shape=(10,))\n",
        "])\n",
        "\n",
        "# Mostrar el resumen del modelo\n",
        "model.summary()"
      ]
    },
    {
      "cell_type": "code",
      "source": [
        "# Cambiar la función de activación de la primera capa\n",
        "model.layers[0].activation = 'tanh'"
      ],
      "metadata": {
        "id": "vXK1Fza1qBaT"
      },
      "execution_count": 5,
      "outputs": []
    },
    {
      "cell_type": "code",
      "source": [
        "from tensorflow.keras.layers import Input, Dense\n",
        "from tensorflow.keras.models import Model\n",
        "\n",
        "input_shape = model.input_shape[1:]  # Obtener la forma de entrada del modelo original\n",
        "\n",
        "# Crear un nuevo input layer\n",
        "new_input = Input(shape=input_shape)\n",
        "# Crear una nueva capa para reemplazar la primera\n",
        "new_layer = Dense(20, activation='sigmoid')(new_input)\n",
        "\n",
        "# Agregar el resto de las capas del modelo original\n",
        "for layer in model.layers[1:]:\n",
        "    new_layer = layer(new_layer)\n",
        "\n",
        "# Crear el nuevo modelo\n",
        "new_model = Model(inputs=new_input, outputs=new_layer)\n",
        "\n",
        "new_model.summary()"
      ],
      "metadata": {
        "colab": {
          "base_uri": "https://localhost:8080/"
        },
        "id": "so0197ABpgua",
        "outputId": "0c0eedbf-9ee0-4cf7-eaf2-04278e6371bf"
      },
      "execution_count": 6,
      "outputs": [
        {
          "output_type": "stream",
          "name": "stdout",
          "text": [
            "Model: \"model\"\n",
            "_________________________________________________________________\n",
            " Layer (type)                Output Shape              Param #   \n",
            "=================================================================\n",
            " input_1 (InputLayer)        [(None, 10)]              0         \n",
            "                                                                 \n",
            " dense_2 (Dense)             (None, 20)                220       \n",
            "                                                                 \n",
            "=================================================================\n",
            "Total params: 220 (880.00 Byte)\n",
            "Trainable params: 220 (880.00 Byte)\n",
            "Non-trainable params: 0 (0.00 Byte)\n",
            "_________________________________________________________________\n"
          ]
        }
      ]
    }
  ]
}