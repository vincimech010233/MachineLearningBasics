{
 "cells": [
  {
   "cell_type": "code",
   "execution_count": null,
   "metadata": {},
   "outputs": [],
   "source": [
    "import numpy as np\n",
    "import tensorflow as tf\n",
    "import matplotlib.pyplot as plt\n",
    "\n",
    "# Crear datos sintéticos para entrenamiento\n",
    "x_train = np.linspace(0, 10, 100)\n",
    "y_train = 2 * x_train + 1 + np.random.normal(0, 1, 100)\n",
    "\n",
    "# Crear el modelo de regresión lineal\n",
    "model = tf.keras.Sequential()\n",
    "model.add(tf.keras.layers.Dense(1, input_dim=1))\n",
    "\n",
    "# Compilar el modelo\n",
    "model.compile(optimizer='sgd', loss='mean_squared_error')\n",
    "\n",
    "# Entrenar el modelo\n",
    "model.fit(x_train, y_train, epochs=50)\n",
    "\n",
    "# Realizar predicciones\n",
    "x_test = np.linspace(0, 10, 10)\n",
    "y_pred = model.predict(x_test)\n",
    "\n",
    "# Visualizar los datos y la línea de regresión\n",
    "plt.scatter(x_train, y_train, label='Datos Reales')\n",
    "plt.plot(x_test, y_pred, color='red', label='Regresión Lineal')\n",
    "plt.legend()\n",
    "plt.show()\n"
   ]
  }
 ],
 "metadata": {
  "kernelspec": {
   "display_name": "Python 3",
   "language": "python",
   "name": "python3"
  },
  "language_info": {
   "codemirror_mode": {
    "name": "ipython",
    "version": 3
   },
   "file_extension": ".py",
   "mimetype": "text/x-python",
   "name": "python",
   "nbconvert_exporter": "python",
   "pygments_lexer": "ipython3",
   "version": "3.11.6"
  }
 },
 "nbformat": 4,
 "nbformat_minor": 2
}
