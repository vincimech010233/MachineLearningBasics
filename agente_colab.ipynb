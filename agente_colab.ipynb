{
  "nbformat": 4,
  "nbformat_minor": 0,
  "metadata": {
    "colab": {
      "provenance": [],
      "authorship_tag": "ABX9TyOpsa9S25++ZyCaRIRKHFFt",
      "include_colab_link": true
    },
    "kernelspec": {
      "name": "python3",
      "display_name": "Python 3"
    },
    "language_info": {
      "name": "python"
    }
  },
  "cells": [
    {
      "cell_type": "markdown",
      "metadata": {
        "id": "view-in-github",
        "colab_type": "text"
      },
      "source": [
        "<a href=\"https://colab.research.google.com/github/vincimech010233/MachineLearningBasics/blob/master/agente_colab.ipynb\" target=\"_parent\"><img src=\"https://colab.research.google.com/assets/colab-badge.svg\" alt=\"Open In Colab\"/></a>"
      ]
    },
    {
      "cell_type": "code",
      "execution_count": null,
      "metadata": {
        "id": "4om-TDic1t2r"
      },
      "outputs": [],
      "source": [
        "import gym\n",
        "import numpy as np\n",
        "import random\n",
        "from tensorflow.keras.models import Sequential\n",
        "from tensorflow.keras.layers import Dense\n",
        "from tensorflow.keras.optimizers import Adam\n",
        "\n",
        "# Crear el entorno CartPole\n",
        "env = gym.make('CartPole-v1')\n",
        "state_size = env.observation_space.shape[0]\n",
        "action_size = env.action_space.n\n",
        "\n",
        "# Parámetros del modelo\n",
        "learning_rate = 0.001\n",
        "model = Sequential()\n",
        "model.add(Dense(24, input_dim=state_size, activation='relu'))\n",
        "model.add(Dense(24, activation='relu'))\n",
        "model.add(Dense(action_size, activation='linear'))\n",
        "model.compile(loss='mse', optimizer=Adam(learning_rate=learning_rate))\n",
        "\n",
        "# Parámetros de Q-learning\n",
        "gamma = 0.95  # factor de descuento\n",
        "epsilon = 1.0  # exploración inicial\n",
        "epsilon_min = 0.01  # mínima exploración\n",
        "epsilon_decay = 0.995  # decaimiento de exploración\n",
        "episodes = 1000  # número de episodios\n",
        "\n",
        "# Entrenamiento del agente\n",
        "for e in range(episodes):\n",
        "    state = env.reset()\n",
        "    state = np.reshape(state, [1, state_size])\n",
        "    for time in range(500):\n",
        "        if np.random.rand() <= epsilon:\n",
        "            action = random.randrange(action_size)\n",
        "        else:\n",
        "            action_values = model.predict(state)\n",
        "            action = np.argmax(action_values[0])\n",
        "        next_state, reward, done, _ = env.step(action)\n",
        "        next_state = np.reshape(next_state, [1, state_size])\n",
        "        target = reward + gamma * np.amax(model.predict(next_state)[0])\n",
        "        target_f = model.predict(state)\n",
        "        target_f[0][action] = target\n",
        "        model.fit(state, target_f, epochs=1, verbose=0)\n",
        "        state = next_state\n",
        "        if done:\n",
        "            print(\"Episodio: {}/{}, Puntuación: {}\".format(e, episodes, time))\n",
        "            break\n",
        "    if epsilon > epsilon_min:\n",
        "        epsilon *= epsilon_decay\n"
      ]
    }
  ]
}