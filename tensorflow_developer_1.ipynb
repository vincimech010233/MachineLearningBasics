{
  "nbformat": 4,
  "nbformat_minor": 0,
  "metadata": {
    "colab": {
      "provenance": [],
      "authorship_tag": "ABX9TyPZ9D0AxzbZ4SCzauNF3wYv",
      "include_colab_link": true
    },
    "kernelspec": {
      "name": "python3",
      "display_name": "Python 3"
    },
    "language_info": {
      "name": "python"
    }
  },
  "cells": [
    {
      "cell_type": "markdown",
      "metadata": {
        "id": "view-in-github",
        "colab_type": "text"
      },
      "source": [
        "<a href=\"https://colab.research.google.com/github/vincimech010233/MachineLearningBasics/blob/master/tensorflow_developer_1.ipynb\" target=\"_parent\"><img src=\"https://colab.research.google.com/assets/colab-badge.svg\" alt=\"Open In Colab\"/></a>"
      ]
    },
    {
      "cell_type": "code",
      "execution_count": 1,
      "metadata": {
        "id": "Pu8yQ31NwKMd"
      },
      "outputs": [],
      "source": [
        "# Import library\n",
        "import tensorflow as tf\n",
        "from tensorflow.keras import datasets, models, layers\n",
        "import numpy as np"
      ]
    },
    {
      "cell_type": "code",
      "source": [
        "# FASHION MNIST\n",
        "(train_images, train_labels), (test_images, test_labels) = datasets.fashion_mnist.load_data()"
      ],
      "metadata": {
        "id": "GsTrCQCDxlfX"
      },
      "execution_count": null,
      "outputs": []
    },
    {
      "cell_type": "code",
      "source": [
        "# Data preprocessing\n",
        "\n",
        "# Normalizar las imagenes entre 0 y 1\n",
        "train_images, test_images = train_images/255.0, test_images/255.0\n",
        "\n",
        "# Convertir las etiquetas a formato categorico\n",
        "train_labels = tf.keras.utils.to_categorical(train_labels, 10)\n",
        "test_labels = tf.keras.utils.to_categorical(test_labels, 10)"
      ],
      "metadata": {
        "id": "5z6W7B0PxnVI"
      },
      "execution_count": 3,
      "outputs": []
    },
    {
      "cell_type": "code",
      "source": [
        "# Definicion del modelo secuencial\n",
        "\n",
        "model = models.Sequential([\n",
        "    layers.Flatten(input_shape=(28, 28)),\n",
        "    layers.Dense(128, activation='relu'),\n",
        "    layers.Dense(10, activation='softmax')\n",
        "])"
      ],
      "metadata": {
        "id": "nQEXszlnzI5o"
      },
      "execution_count": 5,
      "outputs": []
    },
    {
      "cell_type": "code",
      "source": [
        "# Compile the model using the correct argument name: 'optimizer'\n",
        "model.compile(optimizer='adam', loss='categorical_crossentropy', metrics=['accuracy'])"
      ],
      "metadata": {
        "id": "awmKtV_DzrN6"
      },
      "execution_count": 7,
      "outputs": []
    },
    {
      "cell_type": "code",
      "source": [
        "# Train the model\n",
        "\n",
        "model.fit(train_images, train_labels, epochs=18)"
      ],
      "metadata": {
        "colab": {
          "base_uri": "https://localhost:8080/"
        },
        "id": "o5Ru33J-0DOK",
        "outputId": "ce3244a0-c3bf-4a43-948c-557a04173e12"
      },
      "execution_count": 10,
      "outputs": [
        {
          "output_type": "stream",
          "name": "stdout",
          "text": [
            "Epoch 1/18\n",
            "1875/1875 [==============================] - 8s 4ms/step - loss: 0.2298 - accuracy: 0.9139\n",
            "Epoch 2/18\n",
            "1875/1875 [==============================] - 7s 4ms/step - loss: 0.2216 - accuracy: 0.9172\n",
            "Epoch 3/18\n",
            "1875/1875 [==============================] - 8s 4ms/step - loss: 0.2166 - accuracy: 0.9188\n",
            "Epoch 4/18\n",
            "1875/1875 [==============================] - 8s 4ms/step - loss: 0.2097 - accuracy: 0.9201\n",
            "Epoch 5/18\n",
            "1875/1875 [==============================] - 7s 4ms/step - loss: 0.2035 - accuracy: 0.9234\n",
            "Epoch 6/18\n",
            "1875/1875 [==============================] - 8s 4ms/step - loss: 0.1982 - accuracy: 0.9251\n",
            "Epoch 7/18\n",
            "1875/1875 [==============================] - 7s 4ms/step - loss: 0.1917 - accuracy: 0.9272\n",
            "Epoch 8/18\n",
            "1875/1875 [==============================] - 8s 4ms/step - loss: 0.1883 - accuracy: 0.9287\n",
            "Epoch 9/18\n",
            "1875/1875 [==============================] - 8s 4ms/step - loss: 0.1830 - accuracy: 0.9303\n",
            "Epoch 10/18\n",
            "1875/1875 [==============================] - 7s 4ms/step - loss: 0.1790 - accuracy: 0.9329\n",
            "Epoch 11/18\n",
            "1875/1875 [==============================] - 8s 4ms/step - loss: 0.1738 - accuracy: 0.9341\n",
            "Epoch 12/18\n",
            "1875/1875 [==============================] - 7s 4ms/step - loss: 0.1680 - accuracy: 0.9360\n",
            "Epoch 13/18\n",
            "1875/1875 [==============================] - 7s 4ms/step - loss: 0.1649 - accuracy: 0.9377\n",
            "Epoch 14/18\n",
            "1875/1875 [==============================] - 8s 4ms/step - loss: 0.1606 - accuracy: 0.9399\n",
            "Epoch 15/18\n",
            "1875/1875 [==============================] - 7s 4ms/step - loss: 0.1582 - accuracy: 0.9402\n",
            "Epoch 16/18\n",
            "1875/1875 [==============================] - 8s 4ms/step - loss: 0.1534 - accuracy: 0.9413\n",
            "Epoch 17/18\n",
            "1875/1875 [==============================] - 8s 4ms/step - loss: 0.1512 - accuracy: 0.9427\n",
            "Epoch 18/18\n",
            "1875/1875 [==============================] - 7s 4ms/step - loss: 0.1477 - accuracy: 0.9442\n"
          ]
        },
        {
          "output_type": "execute_result",
          "data": {
            "text/plain": [
              "<keras.src.callbacks.History at 0x7dc7bbf33b20>"
            ]
          },
          "metadata": {},
          "execution_count": 10
        }
      ]
    },
    {
      "cell_type": "code",
      "source": [
        "# Evaluate the model\n",
        "\n",
        "test_loss, test_acc = model.evaluate(test_images, test_labels, verbose=2)\n",
        "print('\\nTest accuracy:', test_acc)"
      ],
      "metadata": {
        "colab": {
          "base_uri": "https://localhost:8080/"
        },
        "id": "Q9U15Uar1lyr",
        "outputId": "b0519019-8de9-4bc6-b222-dac6809ace41"
      },
      "execution_count": 11,
      "outputs": [
        {
          "output_type": "stream",
          "name": "stdout",
          "text": [
            "313/313 - 1s - loss: 0.3911 - accuracy: 0.8876 - 602ms/epoch - 2ms/step\n",
            "\n",
            "Test accuracy: 0.8876000046730042\n"
          ]
        }
      ]
    }
  ]
}