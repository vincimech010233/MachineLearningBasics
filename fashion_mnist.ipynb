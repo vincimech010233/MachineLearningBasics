{
  "nbformat": 4,
  "nbformat_minor": 0,
  "metadata": {
    "colab": {
      "provenance": [],
      "authorship_tag": "ABX9TyOXGRDLjarIGQXP++hUzdKh",
      "include_colab_link": true
    },
    "kernelspec": {
      "name": "python3",
      "display_name": "Python 3"
    },
    "language_info": {
      "name": "python"
    }
  },
  "cells": [
    {
      "cell_type": "markdown",
      "metadata": {
        "id": "view-in-github",
        "colab_type": "text"
      },
      "source": [
        "<a href=\"https://colab.research.google.com/github/vincimech010233/MachineLearningBasics/blob/master/fashion_mnist.ipynb\" target=\"_parent\"><img src=\"https://colab.research.google.com/assets/colab-badge.svg\" alt=\"Open In Colab\"/></a>"
      ]
    },
    {
      "cell_type": "code",
      "execution_count": 1,
      "metadata": {
        "colab": {
          "base_uri": "https://localhost:8080/"
        },
        "id": "_-RoKJ3cuOYv",
        "outputId": "879e6e9e-503f-4528-83b7-7749b75e6ce7"
      },
      "outputs": [
        {
          "output_type": "stream",
          "name": "stdout",
          "text": [
            "Downloading data from https://storage.googleapis.com/tensorflow/tf-keras-datasets/train-labels-idx1-ubyte.gz\n",
            "29515/29515 [==============================] - 0s 0us/step\n",
            "Downloading data from https://storage.googleapis.com/tensorflow/tf-keras-datasets/train-images-idx3-ubyte.gz\n",
            "26421880/26421880 [==============================] - 0s 0us/step\n",
            "Downloading data from https://storage.googleapis.com/tensorflow/tf-keras-datasets/t10k-labels-idx1-ubyte.gz\n",
            "5148/5148 [==============================] - 0s 0us/step\n",
            "Downloading data from https://storage.googleapis.com/tensorflow/tf-keras-datasets/t10k-images-idx3-ubyte.gz\n",
            "4422102/4422102 [==============================] - 0s 0us/step\n",
            "Epoch 1/10\n",
            "1875/1875 [==============================] - 74s 38ms/step - loss: 0.5044 - accuracy: 0.8140 - val_loss: 0.3947 - val_accuracy: 0.8524\n",
            "Epoch 2/10\n",
            "1875/1875 [==============================] - 67s 36ms/step - loss: 0.3232 - accuracy: 0.8825 - val_loss: 0.3219 - val_accuracy: 0.8825\n",
            "Epoch 3/10\n",
            "1875/1875 [==============================] - 70s 37ms/step - loss: 0.2769 - accuracy: 0.8986 - val_loss: 0.2943 - val_accuracy: 0.8950\n",
            "Epoch 4/10\n",
            "1875/1875 [==============================] - 69s 37ms/step - loss: 0.2467 - accuracy: 0.9093 - val_loss: 0.2930 - val_accuracy: 0.8895\n",
            "Epoch 5/10\n",
            "1875/1875 [==============================] - 67s 36ms/step - loss: 0.2230 - accuracy: 0.9175 - val_loss: 0.2770 - val_accuracy: 0.8971\n",
            "Epoch 6/10\n",
            "1875/1875 [==============================] - 68s 36ms/step - loss: 0.2021 - accuracy: 0.9240 - val_loss: 0.2645 - val_accuracy: 0.9065\n",
            "Epoch 7/10\n",
            "1875/1875 [==============================] - 69s 37ms/step - loss: 0.1810 - accuracy: 0.9325 - val_loss: 0.2630 - val_accuracy: 0.9045\n",
            "Epoch 8/10\n",
            "1875/1875 [==============================] - 69s 37ms/step - loss: 0.1672 - accuracy: 0.9374 - val_loss: 0.2856 - val_accuracy: 0.9052\n",
            "Epoch 9/10\n",
            "1875/1875 [==============================] - 66s 35ms/step - loss: 0.1544 - accuracy: 0.9414 - val_loss: 0.2857 - val_accuracy: 0.9070\n",
            "Epoch 10/10\n",
            "1875/1875 [==============================] - 68s 36ms/step - loss: 0.1400 - accuracy: 0.9470 - val_loss: 0.2786 - val_accuracy: 0.9064\n"
          ]
        },
        {
          "output_type": "execute_result",
          "data": {
            "text/plain": [
              "<keras.src.callbacks.History at 0x7d4bd87da890>"
            ]
          },
          "metadata": {},
          "execution_count": 1
        }
      ],
      "source": [
        "import tensorflow as tf\n",
        "from tensorflow.keras import datasets, layers, models\n",
        "\n",
        "# Cargar y preparar el conjunto de datos\n",
        "(train_images, train_labels), (test_images, test_labels) = datasets.fashion_mnist.load_data()\n",
        "train_images, test_images = train_images / 255.0, test_images / 255.0\n",
        "\n",
        "# Construir el modelo\n",
        "model = models.Sequential([\n",
        "    layers.Conv2D(32, (3, 3), activation='relu', input_shape=(28, 28, 1)),\n",
        "    layers.MaxPooling2D((2, 2)),\n",
        "    layers.Conv2D(64, (3, 3), activation='relu'),\n",
        "    layers.MaxPooling2D((2, 2)),\n",
        "    layers.Conv2D(64, (3, 3), activation='relu'),\n",
        "    layers.Flatten(),\n",
        "    layers.Dense(64, activation='relu'),\n",
        "    layers.Dense(10)\n",
        "])\n",
        "\n",
        "# Compilar y entrenar el modelo\n",
        "model.compile(optimizer='adam', loss=tf.keras.losses.SparseCategoricalCrossentropy(from_logits=True), metrics=['accuracy'])\n",
        "model.fit(train_images, train_labels, epochs=10, validation_data=(test_images, test_labels))\n"
      ]
    },
    {
      "cell_type": "code",
      "source": [
        "# Guardar el modelo\n",
        "model.save('mi_modelo_fashion_mnist.h5')"
      ],
      "metadata": {
        "colab": {
          "base_uri": "https://localhost:8080/"
        },
        "id": "KL798fGmz9Nx",
        "outputId": "22fb8277-3c2c-4d36-e162-ef67f4b1e088"
      },
      "execution_count": 2,
      "outputs": [
        {
          "output_type": "stream",
          "name": "stderr",
          "text": [
            "/usr/local/lib/python3.10/dist-packages/keras/src/engine/training.py:3079: UserWarning: You are saving your model as an HDF5 file via `model.save()`. This file format is considered legacy. We recommend using instead the native Keras format, e.g. `model.save('my_model.keras')`.\n",
            "  saving_api.save_model(\n"
          ]
        }
      ]
    },
    {
      "cell_type": "code",
      "source": [
        "import tensorflow as tf\n",
        "from tensorflow import keras\n",
        "import numpy as np\n",
        "from PIL import Image\n",
        "import requests\n",
        "from io import BytesIO\n",
        "\n",
        "# URL de la imagen a clasificar\n",
        "# url_de_la_imagen = 'URL_DE_LA_IMAGEN_AQUÍ'\n",
        "\n",
        "\n",
        "# Descargar la imagen y convertirla a escala de grises y cambiar su tamaño a 28x28\n",
        "respuesta = requests.get(url_de_la_imagen)\n",
        "imagen = Image.open(BytesIO(respuesta.content))\n",
        "imagen_en_grises = imagen.convert('L')\n",
        "imagen_redimensionada = imagen_en_grises.resize((28, 28))\n",
        "\n",
        "# Convertir la imagen a un array de numpy y normalizarla\n",
        "imagen_array = np.array(imagen_redimensionada) / 255.0\n",
        "\n",
        "# Asegurarse de que el array tenga la forma correcta (28, 28, 1)\n",
        "imagen_array = np.expand_dims(imagen_array, axis=2)\n",
        "\n",
        "# Cargar el modelo\n",
        "modelo_cargado = keras.models.load_model('mi_modelo_fashion_mnist.h5')\n",
        "\n",
        "# Hacer la predicción\n",
        "prediccion = modelo_cargado.predict(np.expand_dims(imagen_array, axis=0))\n",
        "categoria_predicha = np.argmax(prediccion)\n",
        "\n",
        "# Obtener la etiqueta de la categoría\n",
        "etiquetas = ['T-shirt/top', 'Trouser', 'Pullover', 'Dress', 'Coat',\n",
        "             'Sandal', 'Shirt', 'Sneaker', 'Bag', 'Ankle boot']\n",
        "etiqueta_predicha = etiquetas[categoria_predicha]\n",
        "\n",
        "# Mostrar la predicción\n",
        "print(f'La imagen ha sido clasificada como: {etiqueta_predicha}')\n"
      ],
      "metadata": {
        "colab": {
          "base_uri": "https://localhost:8080/"
        },
        "id": "_jtDBsYyz-eP",
        "outputId": "eb3026bd-7cef-4e9f-9443-d7af42b2fc07"
      },
      "execution_count": 4,
      "outputs": [
        {
          "output_type": "stream",
          "name": "stdout",
          "text": [
            "1/1 [==============================] - 0s 153ms/step\n",
            "La imagen ha sido clasificada como: Shirt\n"
          ]
        }
      ]
    }
  ]
}