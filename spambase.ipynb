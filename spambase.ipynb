{
  "nbformat": 4,
  "nbformat_minor": 0,
  "metadata": {
    "colab": {
      "provenance": [],
      "authorship_tag": "ABX9TyPKltMBf3kSZhm2bUBAHuSJ",
      "include_colab_link": true
    },
    "kernelspec": {
      "name": "python3",
      "display_name": "Python 3"
    },
    "language_info": {
      "name": "python"
    }
  },
  "cells": [
    {
      "cell_type": "markdown",
      "metadata": {
        "id": "view-in-github",
        "colab_type": "text"
      },
      "source": [
        "<a href=\"https://colab.research.google.com/github/vincimech010233/MachineLearningBasics/blob/master/spambase.ipynb\" target=\"_parent\"><img src=\"https://colab.research.google.com/assets/colab-badge.svg\" alt=\"Open In Colab\"/></a>"
      ]
    },
    {
      "cell_type": "code",
      "execution_count": null,
      "metadata": {
        "colab": {
          "base_uri": "https://localhost:8080/"
        },
        "id": "GV09IqxlV0U1",
        "outputId": "09f4626f-bf88-4ccb-8912-c80a045127ff"
      },
      "outputs": [
        {
          "output_type": "stream",
          "name": "stdout",
          "text": [
            "Naive Bayes Accuracy: 0.5971769815418024\n",
            "\n",
            "Naive Bayes Report:\n",
            "               precision    recall  f1-score   support\n",
            "\n",
            "           0       0.66      0.62      0.64       531\n",
            "           1       0.52      0.57      0.55       390\n",
            "\n",
            "    accuracy                           0.60       921\n",
            "   macro avg       0.59      0.59      0.59       921\n",
            "weighted avg       0.60      0.60      0.60       921\n",
            "\n"
          ]
        }
      ],
      "source": [
        "import pandas as pd\n",
        "from sklearn.model_selection import train_test_split\n",
        "from sklearn.naive_bayes import MultinomialNB\n",
        "from sklearn.metrics import accuracy_score, classification_report\n",
        "\n",
        "# Cargar el conjunto de datos Spambase\n",
        "data_url = \"https://archive.ics.uci.edu/ml/machine-learning-databases/spambase/spambase.data\"\n",
        "column_names = [\n",
        "    \"word_freq_make\", \"word_freq_address\",  # Agrega nombres de columnas aquí\n",
        "    \"capital_run_length_total\", \"class\"\n",
        "]\n",
        "data = pd.read_csv(data_url, header=None, names=column_names)\n",
        "\n",
        "# Dividir características y etiquetas\n",
        "X = data.drop(\"class\", axis=1)\n",
        "y = data[\"class\"]\n",
        "\n",
        "# Dividir en conjuntos de entrenamiento y prueba\n",
        "X_train, X_test, y_train, y_test = train_test_split(X, y, test_size=0.2, random_state=42)\n",
        "\n",
        "# Crear y entrenar modelo Naive Bayes\n",
        "nb_model = MultinomialNB()\n",
        "nb_model.fit(X_train, y_train)\n",
        "\n",
        "# Predecir en el conjunto de prueba\n",
        "nb_pred = nb_model.predict(X_test)\n",
        "\n",
        "# Evaluar modelo\n",
        "print(\"Naive Bayes Accuracy:\", accuracy_score(y_test, nb_pred))\n",
        "print(\"\\nNaive Bayes Report:\\n\", classification_report(y_test, nb_pred))\n"
      ]
    }
  ]
}