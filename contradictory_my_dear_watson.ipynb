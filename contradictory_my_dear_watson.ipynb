{
 "cells": [
  {
   "cell_type": "code",
   "execution_count": null,
   "metadata": {},
   "outputs": [],
   "source": [
    "# Cargar los datos de entrenamiento y prueba desde archivos CSV\n",
    "train_data = pd.read_csv('/kaggle/input/contradictory-my-dear-watson/train.csv')\n",
    "test_data = pd.read_csv('/kaggle/input/contradictory-my-dear-watson/test.csv')\n",
    "\n",
    "# Importar bibliotecas y clases necesarias\n",
    "from sklearn.model_selection import train_test_split\n",
    "from sklearn.feature_extraction.text import TfidfVectorizer\n",
    "from sklearn.linear_model import LogisticRegression\n",
    "\n",
    "# Dividir los datos de entrenamiento en entrenamiento y validación\n",
    "# X_train contiene las premisas, X_val contiene las suposiciones\n",
    "# y_train contiene las etiquetas correspondientes a las premisas,\n",
    "# y_val contiene las etiquetas correspondientes a las suposiciones\n",
    "X_train, X_val, y_train, y_val = train_test_split(train_data['premise'], train_data['hypothesis'], test_size=0.2, random_state=42)\n",
    "\n",
    "# Crear un vectorizador TF-IDF con un límite máximo de 5000 características\n",
    "tfidf_vectorizer = TfidfVectorizer(max_features=5000)\n",
    "\n",
    "# Transformar los datos de entrenamiento en vectores TF-IDF\n",
    "X_train_tfidf = tfidf_vectorizer.fit_transform(X_train)\n",
    "\n",
    "# Transformar los datos de validación en vectores TF-IDF utilizando el mismo vectorizador\n",
    "X_val_tfidf = tfidf_vectorizer.transform(X_val)\n",
    "\n",
    "# Inicializar un modelo de regresión logística\n",
    "model = LogisticRegression()\n",
    "\n",
    "# Entrenar el modelo de regresión logística con los datos de entrenamiento\n",
    "model.fit(X_train_tfidf, y_train)\n",
    "\n",
    "# Transformar los datos de prueba en vectores TF-IDF utilizando el mismo vectorizador\n",
    "X_test_tfidf = tfidf_vectorizer.transform(test_data['premise'])\n",
    "\n",
    "# Generar predicciones en el conjunto de prueba\n",
    "predictions = model.predict(X_test_tfidf)\n",
    "\n",
    "# Crear un DataFrame para almacenar las predicciones junto con sus identificadores\n",
    "submission_df = pd.DataFrame({\n",
    "    'id': test_data['id'],\n",
    "    'prediction': predictions\n",
    "})\n",
    "\n",
    "# Guardar el DataFrame de predicciones en un archivo CSV llamado 'submission.csv' sin incluir el índice\n",
    "submission_df.to_csv('submission.csv', index=False)\n"
   ]
  }
 ],
 "metadata": {
  "language_info": {
   "name": "python"
  }
 },
 "nbformat": 4,
 "nbformat_minor": 2
}
